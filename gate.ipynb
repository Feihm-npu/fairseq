{
 "cells": [
  {
   "cell_type": "code",
   "execution_count": 5,
   "metadata": {},
   "outputs": [],
   "source": [
    "import torch"
   ]
  },
  {
   "cell_type": "code",
   "execution_count": 26,
   "metadata": {},
   "outputs": [],
   "source": [
    "E = 8\n",
    "S = 1024\n",
    "w = torch.rand(E,S)"
   ]
  },
  {
   "cell_type": "code",
   "execution_count": 24,
   "metadata": {},
   "outputs": [],
   "source": [
    "def top2gate(gate_output):\n",
    "    '''\n",
    "    gate_output (E,S)\n",
    "    select the best two experts\n",
    "    '''\n",
    "    _, selection = torch.max(gate_output,dim=0)\n",
    "    gate_output[selection, torch.arange(gate_output.size(1))] = float('-inf')\n",
    "    _, selection2 = torch.max(gate_output,dim=0)\n",
    "    return selection, selection2\n",
    "gate_output = torch.softmax(w,dim=1)\n",
    "selection1, selection2 = top2gate(gate_output)"
   ]
  },
  {
   "cell_type": "code",
   "execution_count": 25,
   "metadata": {},
   "outputs": [
    {
     "name": "stdout",
     "output_type": "stream",
     "text": [
      "tensor(140)\n",
      "tensor(121)\n",
      "tensor(116)\n",
      "tensor(129)\n",
      "tensor(124)\n",
      "tensor(122)\n",
      "tensor(129)\n",
      "tensor(135)\n",
      "tensor(127)\n",
      "tensor(131)\n",
      "tensor(121)\n",
      "tensor(141)\n",
      "tensor(139)\n",
      "tensor(109)\n",
      "tensor(128)\n",
      "tensor(136)\n"
     ]
    }
   ],
   "source": [
    "# How much tokens each expert get\n",
    "for i in range(8):\n",
    "    print(torch.sum(selection1==i))\n",
    "    print(torch.sum(selection2==i))"
   ]
  },
  {
   "cell_type": "code",
   "execution_count": null,
   "metadata": {},
   "outputs": [],
   "source": []
  }
 ],
 "metadata": {
  "kernelspec": {
   "display_name": ".moefair",
   "language": "python",
   "name": "python3"
  },
  "language_info": {
   "codemirror_mode": {
    "name": "ipython",
    "version": 3
   },
   "file_extension": ".py",
   "mimetype": "text/x-python",
   "name": "python",
   "nbconvert_exporter": "python",
   "pygments_lexer": "ipython3",
   "version": "3.9.14"
  }
 },
 "nbformat": 4,
 "nbformat_minor": 2
}
